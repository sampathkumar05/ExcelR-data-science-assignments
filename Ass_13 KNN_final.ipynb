# -*- coding: utf-8 -*-
"""
Created on Wed Dec 13 11:04:59 2023

@author: SAMPATH
"""


#===K-NEAREST NEIGHBOURHOOD==============================================================
#===FINAL CODE====================================================
#Glass data=======================================================

#importing the data
import numpy as np
import pandas as pd
df=pd.read_csv("glass.csv")
df
df.dtypes
list(df)
df.shape

#EDA-graph
import matplotlib.pyplot as plt
plt.scatter(df['RI'],df['Na'],color='red')
plt.xlabel("RI")
plt.ylabel("Na")
plt.show()

#splitting
Y = df["Type"]
X = df.iloc[:,0:8]

#data transformation
# standardization
from sklearn.preprocessing import StandardScaler
SS = StandardScaler()
SS_X = SS.fit_transform(X)
SS_X = pd.DataFrame(SS_X)
SS_X

# Data partition
from sklearn.model_selection import train_test_split
X_train,X_test,Y_train,Y_test = train_test_split(X,Y,test_size=0.30)

#model fitting
from sklearn.neighbors import KNeighborsRegressor
KNN = KNeighborsRegressor(n_neighbors=9)

KNN.fit(X_train,Y_train)

Y_pred_train = KNN.predict(X_train)
Y_pred_test  = KNN.predict(X_test)

#metrics
from sklearn.metrics import mean_squared_error
train_error = np.sqrt(mean_squared_error(Y_train,Y_pred_train))
test_error = np.sqrt(mean_squared_error(Y_test,Y_pred_test))

print("Training Error:", train_error.round(2))
print("Test Error:", test_error.round(2))
print("variance:",(train_error-test_error).round(2))

#cross-validation
from sklearn.neighbors import KNeighborsRegressor
KNN = KNeighborsRegressor(n_neighbors=9)

training_error = []
test_error = []

for i in range(1,100):
    X_train,X_test,Y_train,Y_test = train_test_split(X,Y,test_size=0.30,random_state=i)
    KNN.fit(X_train,Y_train)
    Y_pred_train = KNN.predict(X_train)
    Y_pred_test  = KNN.predict(X_test)
    training_error.append(np.sqrt(mean_squared_error(Y_train,Y_pred_train)))
    test_error.append(np.sqrt(mean_squared_error(Y_test,Y_pred_test)))
    
print("\n\n")
print("\t\t******cross validation using KNN results******")
print("Cross validation training Error:",np.mean(training_error).round(2))
print("Cross validation test Error:",np.mean(test_error).round(2))
print("variance:",(np.mean(test_error)-np.mean(training_error)).round(2))

#zoo data===================================================

# importing the data
import numpy as np
import pandas as pd
df=pd.read_csv("Zoo.csv")
df
df.dtypes
list(df)
df.shape

#EDA-graph
import matplotlib.pyplot as plt
plt.scatter(df['milk'],df['hair'],color='purple')
plt.xlabel("milk")
plt.ylabel("hair")
plt.show()

#correlation
df.corr()

#Data transformation
from sklearn.preprocessing import LabelEncoder
LE = LabelEncoder()

for i in range(0,18,1):
    df.iloc[:,i] = LE.fit_transform(df.iloc[:,i])
    
df.head()


# split as X and Y variable
Y = df["animal name"]
X = df.iloc[:,1:]

# Data partition
from sklearn.model_selection import train_test_split
X_train,X_test,Y_train,Y_test = train_test_split(X,Y,test_size=0.30)

#converting data frames to numpy arrays
X_train=X_train.to_numpy()
X_test=X_test.to_numpy()

#knn classifer with its accuracy
from sklearn.neighbors import KNeighborsClassifier
KNN = KNeighborsClassifier(n_neighbors=9)

KNN.fit(X_train,Y_train)

print(np.array(X_train,Y_train).flags)

X_train = np.ascontiguousarray(X_train)
Y_train = np.ascontiguousarray(Y_train)

Y_pred_train = KNN.predict(X_train)
Y_pred_test  = KNN.predict(X_test)

#metrics
from sklearn.metrics import accuracy_score
ac_train = accuracy_score(Y_train,Y_pred_train)
ac_test = accuracy_score(Y_test,Y_pred_test)

print("Training Accuracy:", ac_train.round(2))
print("Test Accuracy:", ac_test.round(2))


# cross validation
from sklearn.neighbors import KNeighborsClassifier
KNN = KNeighborsClassifier(n_neighbors=11)

training_accuracy = []
test_accuracy = []

for i in range(1,100):
    X_train,X_test,Y_train,Y_test = train_test_split(X,Y,test_size=0.30,random_state=i)
    KNN.fit(X_train,Y_train)
    Y_pred_train = KNN.predict(X_train)
    Y_pred_test  = KNN.predict(X_test)
    training_accuracy.append(accuracy_score(Y_train,Y_pred_train))
    test_accuracy.append(accuracy_score(Y_test,Y_pred_test))

k1 = pd.DataFrame(training_accuracy)
k2 = pd.DataFrame(test_accuracy)
print("***KNEIGHBORSCLASSIFIER RESULTS***")
print("Cross validation training results:",k1.mean().round(2))
print("Cross validation test results:",k2.mean().round(2))
