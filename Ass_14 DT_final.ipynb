# -*- coding: utf-8 -*-
"""
Created on Thu Dec 14 10:46:50 2023

@author: SAMPATH
"""

#===DECITION TREE==========================================================#
#completed

#COMPANY DATA

# Import the file
import numpy as np
import pandas as pd
df=pd.read_csv("Company_Data.csv")
df.head()
df.shape
df
list(df)
df.dtypes

# Data Transformation
#label encoding
from sklearn.preprocessing import LabelEncoder
LE = LabelEncoder()
df['ShelveLoc'] = LE.fit_transform(df['ShelveLoc'])
df['Urban'] = LE.fit_transform(df['Urban'])
df['US'] = LE.fit_transform(df['US'])

#splitting as X nd Y
Y=df["Sales"]
X=df.iloc[:,1:10]

# standardization
from sklearn.preprocessing import StandardScaler
SS = StandardScaler()
SS_X = SS.fit_transform(X)
SS_X = pd.DataFrame(SS_X)
SS_X

# Data partition
from sklearn.model_selection import train_test_split
X_train,X_test,Y_train,Y_test = train_test_split(SS_X,Y,test_size=0.30)

#linear regression
from sklearn.linear_model import LinearRegression
linreg = LinearRegression()

linreg.fit(X_train,Y_train)

Y_pred_train = linreg.predict(X_train)
Y_pred_test  = linreg.predict(X_test)

# metrics
from sklearn.metrics import mean_squared_error
train_error = np.sqrt(mean_squared_error(Y_train,Y_pred_train))
test_error = np.sqrt(mean_squared_error(Y_test,Y_pred_test))

print("Training Error:", train_error.round(2))
print("Test Error:", test_error.round(2))
print("variance:",(train_error-test_error).round(2))

# cross validation using LR
#====================================================================
training_error = []
test_error = []

for i in range(1,100):
    X_train,X_test,Y_train,Y_test = train_test_split(SS_X,Y,test_size=0.30,random_state=i)
    linreg.fit(X_train,Y_train)
    Y_pred_train = linreg.predict(X_train)
    Y_pred_test  = linreg.predict(X_test)
    training_error.append(np.sqrt(mean_squared_error(Y_train,Y_pred_train)))
    test_error.append(np.sqrt(mean_squared_error(Y_test,Y_pred_test)))

print("Cross validation training Error:",np.mean(training_error).round(2))
print("Cross validation test Error:",np.mean(test_error).round(2))
print("variance:",(np.mean(test_error)-np.mean(training_error)).round(2))


#Decision Tree
#=================================
from sklearn.tree import DecisionTreeRegressor
DT = DecisionTreeRegressor()

DT.fit(X_train,Y_train)
Y_pred_train = DT.predict(X_train) 
Y_pred_test = DT.predict(X_test)

#metrics
from sklearn.metrics import mean_squared_error
train_error = np.sqrt(mean_squared_error(Y_train,Y_pred_train))
test_error = np.sqrt(mean_squared_error(Y_test,Y_pred_test))

print("Training Error:", train_error.round(2))
print("Test Error:", test_error.round(2))
print("variance:",(train_error-test_error).round(2))


print("Total number of nodes",DT.tree_.node_count) # counting the number of nodes
print("Total maximum depth of tree",DT.tree_.max_depth) # number of levels



# cross validation using DT
#====================================================================
from sklearn.tree import DecisionTreeRegressor
DT = DecisionTreeRegressor()

training_error = []
test_error = []

for i in range(1,100):
    X_train,X_test,Y_train,Y_test = train_test_split(X,Y,test_size=0.30,random_state=i)
    DT.fit(X_train,Y_train)
    Y_pred_train = DT.predict(X_train)
    Y_pred_test  = DT.predict(X_test)
    training_error.append(np.sqrt(mean_squared_error(Y_train,Y_pred_train)))
    test_error.append(np.sqrt(mean_squared_error(Y_test,Y_pred_test)))
    
print("\n\n")
print("\t\t******cross validation using DT results******")
print("Cross validation training Error:",np.mean(training_error).round(2))
print("Cross validation test Error:",np.mean(test_error).round(2))
print("variance:",(np.mean(test_error)-np.mean(training_error)).round(2))


#========================================================================

#Fraud_check data


# Import the file
import numpy as np
import pandas as pd
df=pd.read_csv("Fraud_check.csv")
df.head()
df.shape
df
list(df)
df.dtypes

# Defining Taxable.Income as Risky nd good
# Define the ranges and corresponding categories
low_range = (0, 30000)
high_range = (30001, float('inf'))

# Create a new categorical variable based on the defined ranges
df['Income_category'] = np.select(
    [df['Taxable.Income'].between(*low_range), df['Taxable.Income'].between(*high_range)],
    ['Risky', 'Good'],
    default='Other'
)

df.head()
list(df)


# Data Transformation
#label encoding
from sklearn.preprocessing import LabelEncoder
LE = LabelEncoder()
df['Undergrad'] = LE.fit_transform(df['Undergrad'])
df['Marital.Status'] = LE.fit_transform(df['Marital.Status'])
df['Urban'] = LE.fit_transform(df['Urban'])
df['Income_category'] = LE.fit_transform(df['Income_category'])

#splitting as X nd Y
Y=df["Income_category"]
X=df.iloc[:,[3,4]]

# standardization
from sklearn.preprocessing import StandardScaler
SS = StandardScaler()
SS_X = SS.fit_transform(X)
SS_X = pd.DataFrame(SS_X)
SS_X

# Data partition
from sklearn.model_selection import train_test_split
X_train,X_test,Y_train,Y_test = train_test_split(SS_X,Y,test_size=0.30)

#decision tree
from sklearn.tree import DecisionTreeClassifier
DT = DecisionTreeClassifier()
from sklearn.metrics import accuracy_score

DT.fit(X_train,Y_train)

Y_pred_train = DT.predict(X_train)
Y_pred_test  = DT.predict(X_test)

training_accuracy = []
test_accuracy = []

for i in range(1,100):
    X_train,X_test,Y_train,Y_test = train_test_split(SS_X,Y,test_size=0.30,random_state=i)
    DT.fit(X_train,Y_train)
    Y_pred_train = DT.predict(X_train)
    Y_pred_test  = DT.predict(X_test)
    training_accuracy.append(accuracy_score(Y_train,Y_pred_train))
    test_accuracy.append(accuracy_score(Y_test,Y_pred_test))
    
k1 = pd.DataFrame(training_accuracy)
k2 = pd.DataFrame(test_accuracy)

print("\n\n")
print("\t\t******cross validation using DecisionTreeClassifier results******")
print("Cross validation training accuracy results:",k1.mean().round(2))
print("Cross validation test accuracy results:",k2.mean().round(2))
print("variance:",np.mean(k1.mean()-k2.mean()).round(2))

#-------------------------------------------------------------------------