# -*- coding: utf-8 -*-
"""
Created on Tue Jan  2 16:50:32 2024

@author: SAMPATH
"""

#SAMPATHSAMPATHSAMPATHSAMPATHSAMPATHSAMPATHSAMPATHSAMPATHSAMPATHSAMPATHSAMPATHSAMPATHSAMPATHSAMPATHSAMPATHSAMPATHSAMPATH
#===Turbine files==========================================================================

# Import necessary libraries
import numpy as np
import pandas as pd
from tensorflow.keras.models import Sequential
from tensorflow.keras.layers import Dense
from tensorflow.keras.optimizers import Adam
from sklearn.metrics import mean_squared_error

# importing the data 
df = pd.read_csv('gas_turbines.csv')

# Extract features (ambient variables and gas turbine parameters) and target variable (TEY)
X = df.drop(columns=['TEY'])
y = df['TEY']

# Splitting the dataset into training and testing sets
from sklearn.model_selection import train_test_split
X_train, X_test, y_train, y_test = train_test_split(X, y, test_size=0.2, random_state=42)

# Standardization
from sklearn.preprocessing import StandardScaler
scaler = StandardScaler()
X_train_scaled = scaler.fit_transform(X_train)
X_test_scaled = scaler.transform(X_test)

# Build the neural network model
from tensorflow.keras.models import Sequential
from tensorflow.keras.layers import Dense
from tensorflow.keras.optimizers import Adam
from sklearn.metrics import mean_squared_error

model = Sequential()
model.add(Dense(15, input_dim=X_train.shape[1], activation='relu'))
#input_dim= no.of x variables
#Dense(no.of x variables+no.of x variables/2) ; (thumb rule)
#observe the no.of variables in the data set using below 
#print(len(df.columns))

#activation = relu (standard)

model.add(Dense(1, activation='linear'))
#Dense(1)...1 bcz no.of Y columns = 1
#relu-->Y is continuous
#sigmoid-->Y is binary class
#soft max--->Y is multi class 

# Compile the model
model.compile(optimizer=Adam(learning_rate=0.001), loss='mean_squared_error')

# Train the model
history = model.fit(X_train_scaled, y_train, epochs=50, batch_size=32, validation_split=0.2)

# Evaluate the model on the testing set
y_pred = model.predict(X_test_scaled)
mse = mean_squared_error(y_test, y_pred)
print(f'Mean Squared Error on Testing Set: {mse}')

# Plot training and validation loss
import matplotlib.pyplot as plt
plt.plot(history.history['loss'], label='Training Loss')
plt.plot(history.history['val_loss'], label='Validation Loss')
plt.title('Training and Validation Loss')
plt.xlabel('Epoch')
plt.ylabel('Loss')
plt.legend()
plt.show()

#SAMPATHSAMPATHSAMPATHSAMPATHSAMPATHSAMPATHSAMPATHSAMPATHSAMPATHSAMPATHSAMPATHSAMPATHSAMPATHSAMPATHSAMPATHSAMPATHSAMPATH

#===Forest firess==========================================================================


# Import necessary libraries
import numpy as np
import pandas as pd
from sklearn.model_selection import train_test_split
from sklearn.preprocessing import StandardScaler
from tensorflow.keras.models import Sequential
from tensorflow.keras.layers import Dense
from tensorflow.keras.optimizers import Adam
from sklearn.metrics import mean_squared_error

# Importing the data
df=pd.read_csv("forestfires.csv")
df.dtypes

#label encoding the object variables
from sklearn.preprocessing import LabelEncoder
LE=LabelEncoder()
df['month']=LE.fit_transform(df['month'])
df['day']=LE.fit_transform(df['day'])
df['size_category']=LE.fit_transform(df['size_category'])

# Extract features and target variable
X = df.drop(columns=['area'])
y = df['area']

# Split the dataset into training and testing sets
X_train, X_test, y_train, y_test = train_test_split(X, y, test_size=0.2, random_state=42)

# Standardize/Normalize the features
scaler = StandardScaler()
X_train_scaled = scaler.fit_transform(X_train)
X_test_scaled = scaler.transform(X_test)

# Build the neural network model
model = Sequential()
model.add(Dense(45, input_dim=X_train.shape[1], activation='relu'))
#print(len(df.columns))
model.add(Dense(45, activation='relu'))
model.add(Dense(1, activation='linear'))

# Compile the model
model.compile(optimizer=Adam(learning_rate=0.001), loss='mean_squared_error')

# Train the model
model.fit(X_train_scaled, y_train, epochs=50, batch_size=32, validation_split=0.2)

# Evaluate the model on the testing set
y_pred = model.predict(X_test_scaled)
mse = mean_squared_error(y_test, y_pred)
print(f'Mean Squared Error on Testing Set: {mse}')

# Plot training and validation loss
import matplotlib.pyplot as plt
plt.plot(history.history['loss'], label='Training Loss')
plt.plot(history.history['val_loss'], label='Validation Loss')
plt.title('Training and Validation Loss')
plt.xlabel('Epoch')
plt.ylabel('Loss')
plt.legend()
plt.show()
