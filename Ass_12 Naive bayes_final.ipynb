# -*- coding: utf-8 -*-
"""
Created on Tue Dec 12 13:55:01 2023

@author: SAMPATH
"""

#ASS_12 NAIVE BAYES CLASSIFIER

#FINAL CODE

#Importing the data
import pandas as pd
df=pd.read_csv("SalaryData_Test.csv")
df
df.dtypes
list(df)
df.shape

#graph
import matplotlib.pyplot as plt
plt.scatter(df['capitalgain'],df['capitalloss'],color='red')
plt.ylabel("capitalgain")
plt.xlabel("capitalloss")
plt.show()

#labelencoding
from sklearn.preprocessing import LabelEncoder
LE = LabelEncoder()

df['workclass'] = LE.fit_transform(df['workclass'])
df['education'] = LE.fit_transform(df['education'])
df["maritalstatus"] = LE.fit_transform(df['maritalstatus'])
df["occupation"] = LE.fit_transform(df['occupation'])
df['relationship'] = LE.fit_transform(df['relationship'])
df["race"] = LE.fit_transform(df['race'])
df["sex"] = LE.fit_transform(df['sex'])
df["native"] = LE.fit_transform(df['native'])
df["Salary"] = LE.fit_transform(df['Salary'])


#split as X and Y variable for Naive bayes
Y = df["Salary"]
X = df.iloc[:,[0,3,9,10,11]]


# standardization
from sklearn.preprocessing import StandardScaler
SS = StandardScaler()
SS_X = SS.fit_transform(X)
SS_X = pd.DataFrame(SS_X)
SS_X


# Data partition
from sklearn.model_selection import train_test_split
X_train,X_test,Y_train,Y_test = train_test_split(X,Y,test_size=0.30)

# Model fitting
from sklearn.naive_bayes import MultinomialNB
MNB = MultinomialNB()
MNB.fit(X_train,Y_train)

Y_pred_train = MNB.predict(X_train)
Y_pred_test  = MNB.predict(X_test)

#metrics
from sklearn.metrics import accuracy_score
ac_train = accuracy_score(Y_train,Y_pred_train)
ac_test = accuracy_score(Y_test,Y_pred_test)
print("Training Accuracy:", ac_train.round(2))
print("Test Accuracy:", ac_test.round(2))


#cross validation
training_accuracy = []
test_accuracy = []

for i in range(1,100):
    X_train,X_test,Y_train,Y_test = train_test_split(X,Y,test_size=0.30,random_state=i)
    MNB.fit(X_train,Y_train)
    Y_pred_train = MNB.predict(X_train)
    Y_pred_test  = MNB.predict(X_test)
    training_accuracy.append(accuracy_score(Y_train,Y_pred_train))
    test_accuracy.append(accuracy_score(Y_test,Y_pred_test))

k1 = pd.DataFrame(training_accuracy)
k2 = pd.DataFrame(test_accuracy)
print("***NAIVE BAYES CLASSIFIER RESULTS***")
print("Cross validation training results:",k1.mean().round(2))
print("Cross validation test results:",k2.mean().round(2))
