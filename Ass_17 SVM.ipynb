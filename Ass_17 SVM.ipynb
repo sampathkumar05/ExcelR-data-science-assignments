# -*- coding: utf-8 -*-
"""
Created on Wed Nov 22 22:16:02 2023

@author: SAMPATH
"""

#===SUPPORT VECTOR MACHINE=======================================================================#

#COMPLETED 
#step1:import the data
import pandas as pd
df=pd.read_csv("forestfires.csv")
df
df.head()
list(df)
df.shape
df.dtypes
import numpy as np

# Data Transformation

# label encoding
from sklearn.preprocessing import LabelEncoder
LE = LabelEncoder()
df['month'] = LE.fit_transform(df['month'])
df['day'] = LE.fit_transform(df['day'])
df['size_category'] = LE.fit_transform(df['size_category'])


# step3: split as X and Y variable
Y = df["size_category"]
X = df.iloc[:,2:31]


# standardization
from sklearn.preprocessing import StandardScaler
SS = StandardScaler()
SS_X = SS.fit_transform(X)
SS_X = pd.DataFrame(SS_X)
SS_X

# Data partition
from sklearn.model_selection import train_test_split
X_train,X_test,Y_train,Y_test = train_test_split(SS_X,Y,test_size=0.30)

'''
# step5:support vector machine
from sklearn.svm import SVC
svclass = SVC(C=1.0,kernel='linear')

svclass.fit(X_train,Y_train)

Y_pred_train = svclass.predict(X_train)
Y_pred_test  = svclass.predict(X_test)

#metrics
from sklearn.metrics import accuracy_score
ac_train = accuracy_score(Y_train,Y_pred_train)
ac_test = accuracy_score(Y_test,Y_pred_test)

print("Training Accuracy:", ac_train.round(2))
print("Test Accuracy:", ac_test.round(2))
'''

#support vector classifier
#support vector machine
from sklearn.svm import SVC
svclass = SVC(C=1.0,kernel='linear')
from sklearn.metrics import accuracy_score


training_accuracy = []
test_accuracy = []

for i in range(1,100):
    X_train,X_test,Y_train,Y_test = train_test_split(SS_X,Y,test_size=0.30,random_state=i)
    svclass.fit(X_train,Y_train)
    Y_pred_train = svclass.predict(X_train)
    Y_pred_test  = svclass.predict(X_test)
    training_accuracy.append(accuracy_score(Y_train,Y_pred_train))
    test_accuracy.append(accuracy_score(Y_test,Y_pred_test))
    
k1 = pd.DataFrame(training_accuracy)
k2 = pd.DataFrame(test_accuracy)

print("\n\n")
print("\t\t******cross validation using support vector machine results******")
print("Cross validation training accuracy results:",k1.mean().round(2))
print("Cross validation test accuracy results:",k2.mean().round(2))
print("variance:",np.mean(k1.mean()-k2.mean()).round(2))

#===================================================================


#SVM for SalaryData_Test(1) data set

#IMPORT THE DATA
import pandas as pd
df=pd.read_csv("SalaryData_Test(1).csv")
df
df.dtypes
list(df)
df.shape

# Data Transformation
# label encoding
from sklearn.preprocessing import LabelEncoder
LE = LabelEncoder()
df['workclass'] = LE.fit_transform(df['workclass'])
df['education'] = LE.fit_transform(df['education'])
df['maritalstatus'] = LE.fit_transform(df['maritalstatus'])
df['occupation'] = LE.fit_transform(df['occupation'])
df['relationship'] = LE.fit_transform(df['relationship'])
df['race'] = LE.fit_transform(df['race'])
df['sex'] = LE.fit_transform(df['sex'])
df['native'] = LE.fit_transform(df['native'])
df['Salary'] = LE.fit_transform(df['Salary'])


# step3: split as X and Y variable
Y = df["Salary"]
X = df.iloc[:,[0,3,9,10,11]]

# standardization
from sklearn.preprocessing import StandardScaler
SS = StandardScaler()
SS_X = SS.fit_transform(X)
SS_X = pd.DataFrame(SS_X)
SS_X

# Data partition
from sklearn.model_selection import train_test_split
X_train,X_test,Y_train,Y_test = train_test_split(SS_X,Y,test_size=0.30)

#support vector machine
from sklearn.svm import SVC
svclass = SVC(C=1.0,kernel='linear')
from sklearn.metrics import accuracy_score

training_accuracy = []
test_accuracy = []

for i in range(1,100):
    X_train,X_test,Y_train,Y_test = train_test_split(SS_X,Y,test_size=0.30,random_state=i)
    svclass.fit(X_train,Y_train)
    Y_pred_train = svclass.predict(X_train)
    Y_pred_test  = svclass.predict(X_test)
    training_accuracy.append(accuracy_score(Y_train,Y_pred_train))
    test_accuracy.append(accuracy_score(Y_test,Y_pred_test))
    
k1 = pd.DataFrame(training_accuracy)
k2 = pd.DataFrame(test_accuracy)

print("\n\n")
print("\t\t******cross validation using support vector machine results******")
print("Cross validation training accuracy results:",k1.mean().round(2))
print("Cross validation test accuracy results:",k2.mean().round(2))
print("variance:",np.mean(k1.mean()-k2.mean()).round(2))



#============================================================================

#SVM for SalaryData_Train(1) data set

#IMPORT THE DATA
import pandas as pd
df=pd.read_csv("SalaryData_Train(1).csv")
df
df.dtypes
list(df)
df.shape

# Data Transformation
# label encoding
from sklearn.preprocessing import LabelEncoder
LE = LabelEncoder()
df['workclass'] = LE.fit_transform(df['workclass'])
df['education'] = LE.fit_transform(df['education'])
df['maritalstatus'] = LE.fit_transform(df['maritalstatus'])
df['occupation'] = LE.fit_transform(df['occupation'])
df['relationship'] = LE.fit_transform(df['relationship'])
df['race'] = LE.fit_transform(df['race'])
df['sex'] = LE.fit_transform(df['sex'])
df['native'] = LE.fit_transform(df['native'])
df['Salary'] = LE.fit_transform(df['Salary'])


# step3: split as X and Y variable
Y = df["Salary"]
X = df.iloc[:,[0,3,9,10,11]]

# standardization
from sklearn.preprocessing import StandardScaler
SS = StandardScaler()
SS_X = SS.fit_transform(X)
SS_X = pd.DataFrame(SS_X)
SS_X

# Data partition
from sklearn.model_selection import train_test_split
X_train,X_test,Y_train,Y_test = train_test_split(SS_X,Y,test_size=0.30)

#support vector machine
from sklearn.svm import SVC
svclass = SVC(C=1.0,kernel='linear')
from sklearn.metrics import accuracy_score

training_accuracy = []
test_accuracy = []

for i in range(1,100):
    X_train,X_test,Y_train,Y_test = train_test_split(SS_X,Y,test_size=0.30,random_state=i)
    svclass.fit(X_train,Y_train)
    Y_pred_train = svclass.predict(X_train)
    Y_pred_test  = svclass.predict(X_test)
    training_accuracy.append(accuracy_score(Y_train,Y_pred_train))
    test_accuracy.append(accuracy_score(Y_test,Y_pred_test))
    
k1 = pd.DataFrame(training_accuracy)
k2 = pd.DataFrame(test_accuracy)

print("\n\n")
print("\t\t******cross validation using support vector machine results******")
print("Cross validation training accuracy results:",k1.mean().round(2))
print("Cross validation test accuracy results:",k2.mean().round(2))
print("variance:",np.mean(k1.mean()-k2.mean()).round(2))








